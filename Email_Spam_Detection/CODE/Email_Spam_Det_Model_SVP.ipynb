{
 "cells": [
  {
   "cell_type": "code",
   "execution_count": 1,
   "metadata": {},
   "outputs": [],
   "source": [
    "import pandas as pd\n",
    "import joblib as jb\n",
    "import nltk\n",
    "\n",
    "from nltk.corpus import stopwords\n",
    "from sklearn.feature_extraction.text import CountVectorizer\n",
    "\n",
    "from sklearn.model_selection import train_test_split\n",
    "from sklearn.naive_bayes import MultinomialNB\n",
    "from sklearn.metrics import accuracy_score"
   ]
  },
  {
   "cell_type": "code",
   "execution_count": 2,
   "metadata": {},
   "outputs": [
    {
     "data": {
      "text/plain": [
       "(5171, 5)"
      ]
     },
     "execution_count": 2,
     "metadata": {},
     "output_type": "execute_result"
    }
   ],
   "source": [
    "# Data Handling:\n",
    "\n",
    "Data_Set_path = \"C:\\\\OneDrive\\\\Software\\\\Work_Spaces\\\\System_WorkSpace\\\\Data_WorkSpace\\\\Machine_Learning\\\\Email_Spam_Detection\\\\DATA\\\\Email_Spam_Ham_Data.csv\"\n",
    "ds = pd.read_csv(Data_Set_path)\n",
    "\n",
    "Feature = ds['Email_Text']\n",
    "target = ds['Target']\n",
    "ds.shape"
   ]
  },
  {
   "cell_type": "code",
   "execution_count": 3,
   "metadata": {},
   "outputs": [
    {
     "name": "stdout",
     "output_type": "stream",
     "text": [
      "5132    Subject: do you care ?\\r\\nthem kind so work ga...\n",
      "2067    Subject: re : meter # 6009 - lundell ranch c /...\n",
      "4716    Subject: 94 % off on software - autodesk , cor...\n",
      "4710    Subject: top profiie bouncing sharply off its ...\n",
      "2268    Subject: enron / hpl actuals for december 19 ,...\n",
      "                              ...                        \n",
      "4426        Subject: we ' ve found a school for you !\\r\\n\n",
      "466     Subject: hey ! guess it was hard to get back ,...\n",
      "3092    Subject: first delivery - etoco\\r\\nplease see ...\n",
      "3772         Subject: stop the aging clock\\r\\nnerissa\\r\\n\n",
      "860     Subject: ami , , , ,\\r\\ni agree ! !\\r\\nthanks ...\n",
      "Name: Email_Text, Length: 4136, dtype: object\n",
      "1566    Subject: eastrans nomination change effective ...\n",
      "1988    Subject: re : personal information needs to be...\n",
      "1235    Subject: re : saudi arabia\\r\\ni spoke to mr . ...\n",
      "2868    Subject: april nominations at shell deer park\\...\n",
      "4903    Subject: last longner in bed\\r\\nthe * s e c r ...\n",
      "                              ...                        \n",
      "1175    Subject: re : new production - sitara deals ne...\n",
      "4476    Subject: approval # 5146\\r\\nhello ,\\r\\nwe sent...\n",
      "4198    Subject: pay less for microsoft office softwar...\n",
      "2689    Subject: entex noms - lone star katy\\r\\ntom -\\...\n",
      "2142    Subject: beaumont methanol\\r\\nthis is to confi...\n",
      "Name: Email_Text, Length: 1035, dtype: object\n",
      "5132    spam\n",
      "2067     ham\n",
      "4716    spam\n",
      "4710    spam\n",
      "2268     ham\n",
      "        ... \n",
      "4426    spam\n",
      "466      ham\n",
      "3092     ham\n",
      "3772    spam\n",
      "860      ham\n",
      "Name: Target, Length: 4136, dtype: object\n",
      "1566     ham\n",
      "1988     ham\n",
      "1235     ham\n",
      "2868     ham\n",
      "4903    spam\n",
      "        ... \n",
      "1175     ham\n",
      "4476    spam\n",
      "4198    spam\n",
      "2689     ham\n",
      "2142     ham\n",
      "Name: Target, Length: 1035, dtype: object\n"
     ]
    }
   ],
   "source": [
    "# Training and testing Data:\n",
    "\n",
    "X_Train,X_Test,Y_Train,Y_Test = train_test_split(Feature,target,test_size=0.2,random_state=42)\n",
    "print(X_Train)\n",
    "print(X_Test)\n",
    "print(Y_Train)\n",
    "print(Y_Test)"
   ]
  },
  {
   "cell_type": "code",
   "execution_count": 4,
   "metadata": {},
   "outputs": [],
   "source": [
    "# Text preprocessing:\n",
    "#python -m nltk.downloader stopwords\n",
    "# nltk.download('stopwords')\n"
   ]
  },
  {
   "cell_type": "code",
   "execution_count": 5,
   "metadata": {},
   "outputs": [
    {
     "name": "stdout",
     "output_type": "stream",
     "text": [
      "  (0, 37929)\t1\n",
      "  (0, 14987)\t1\n",
      "  (0, 43322)\t1\n",
      "  (0, 9938)\t1\n",
      "  (0, 39057)\t1\n",
      "  (0, 24265)\t1\n",
      "  (0, 36826)\t1\n",
      "  (0, 42620)\t1\n",
      "  (0, 19067)\t1\n",
      "  (0, 26865)\t1\n",
      "  (0, 17239)\t1\n",
      "  (0, 14195)\t1\n",
      "  (0, 33555)\t1\n",
      "  (0, 17960)\t1\n",
      "  (0, 27831)\t2\n",
      "  (0, 6676)\t1\n",
      "  (0, 40058)\t1\n",
      "  (0, 39224)\t1\n",
      "  (0, 17140)\t1\n",
      "  (0, 30478)\t1\n",
      "  (0, 20241)\t1\n",
      "  (0, 15685)\t1\n",
      "  (0, 17988)\t1\n",
      "  (0, 17603)\t1\n",
      "  (0, 34196)\t1\n",
      "  :\t:\n",
      "  (4135, 13581)\t3\n",
      "  (4135, 486)\t2\n",
      "  (4135, 1331)\t1\n",
      "  (4135, 1444)\t1\n",
      "  (4135, 13486)\t1\n",
      "  (4135, 17604)\t1\n",
      "  (4135, 38970)\t1\n",
      "  (4135, 5027)\t1\n",
      "  (4135, 25866)\t2\n",
      "  (4135, 16527)\t2\n",
      "  (4135, 40095)\t2\n",
      "  (4135, 10589)\t1\n",
      "  (4135, 37690)\t1\n",
      "  (4135, 40864)\t1\n",
      "  (4135, 18013)\t1\n",
      "  (4135, 39326)\t2\n",
      "  (4135, 21945)\t1\n",
      "  (4135, 31784)\t2\n",
      "  (4135, 2014)\t1\n",
      "  (4135, 1220)\t1\n",
      "  (4135, 3699)\t1\n",
      "  (4135, 3123)\t1\n",
      "  (4135, 1108)\t1\n",
      "  (4135, 93)\t1\n",
      "  (4135, 3358)\t1\n",
      "  (0, 0)\t2\n",
      "  (0, 5032)\t1\n",
      "  (0, 6429)\t1\n",
      "  (0, 7548)\t2\n",
      "  (0, 10530)\t1\n",
      "  (0, 12315)\t1\n",
      "  (0, 12637)\t1\n",
      "  (0, 13806)\t1\n",
      "  (0, 13979)\t1\n",
      "  (0, 13983)\t1\n",
      "  (0, 15618)\t1\n",
      "  (0, 15726)\t2\n",
      "  (0, 15916)\t1\n",
      "  (0, 18432)\t2\n",
      "  (0, 18843)\t1\n",
      "  (0, 19127)\t1\n",
      "  (0, 22268)\t1\n",
      "  (0, 27509)\t2\n",
      "  (0, 28814)\t1\n",
      "  (0, 29311)\t1\n",
      "  (0, 29981)\t1\n",
      "  (0, 30287)\t1\n",
      "  (0, 30702)\t2\n",
      "  (0, 31394)\t1\n",
      "  (0, 32060)\t1\n",
      "  :\t:\n",
      "  (1034, 24822)\t2\n",
      "  (1034, 25034)\t1\n",
      "  (1034, 27067)\t1\n",
      "  (1034, 27073)\t2\n",
      "  (1034, 28396)\t1\n",
      "  (1034, 28652)\t2\n",
      "  (1034, 28759)\t1\n",
      "  (1034, 28951)\t1\n",
      "  (1034, 29311)\t1\n",
      "  (1034, 29916)\t1\n",
      "  (1034, 29923)\t1\n",
      "  (1034, 32065)\t1\n",
      "  (1034, 36284)\t3\n",
      "  (1034, 37498)\t1\n",
      "  (1034, 37929)\t1\n",
      "  (1034, 38532)\t1\n",
      "  (1034, 38539)\t1\n",
      "  (1034, 39034)\t1\n",
      "  (1034, 39040)\t1\n",
      "  (1034, 39107)\t2\n",
      "  (1034, 39148)\t1\n",
      "  (1034, 39472)\t6\n",
      "  (1034, 41993)\t1\n",
      "  (1034, 42341)\t1\n",
      "  (1034, 43519)\t1\n"
     ]
    }
   ],
   "source": [
    "vectorizer = CountVectorizer()\n",
    "\n",
    "X_train_vectorized = vectorizer.fit_transform(X_Train)\n",
    "X_test_vectorized = vectorizer.transform(X_Test)\n",
    "print(X_train_vectorized)\n",
    "print(X_test_vectorized)\n"
   ]
  },
  {
   "cell_type": "code",
   "execution_count": 6,
   "metadata": {},
   "outputs": [
    {
     "name": "stdout",
     "output_type": "stream",
     "text": [
      "Accuracy: 0.98\n",
      "1566     ham\n",
      "1988     ham\n",
      "1235     ham\n",
      "2868     ham\n",
      "4903    spam\n",
      "        ... \n",
      "1175     ham\n",
      "4476    spam\n",
      "4198    spam\n",
      "2689     ham\n",
      "2142     ham\n",
      "Name: Target, Length: 1035, dtype: object\n",
      "['ham' 'ham' 'ham' ... 'spam' 'ham' 'ham']\n"
     ]
    }
   ],
   "source": [
    "# Model Training:\n",
    "\n",
    "Classification_Model = MultinomialNB()\n",
    "Classification_Model.fit(X_train_vectorized, Y_Train)\n",
    "\n",
    "# Make predictions\n",
    "Target_Predictions = Classification_Model.predict(X_test_vectorized)\n",
    "\n",
    "# Evaluate the model\n",
    "accuracy = accuracy_score(Y_Test, Target_Predictions)\n",
    "print(f'Accuracy: {accuracy:.2f}')\n",
    "print(Y_Test)\n",
    "print(Target_Predictions)\n"
   ]
  },
  {
   "cell_type": "code",
   "execution_count": 7,
   "metadata": {},
   "outputs": [
    {
     "name": "stdout",
     "output_type": "stream",
     "text": [
      "['ham' 'spam' 'spam' 'ham']\n"
     ]
    }
   ],
   "source": [
    "# Model Prediction:\n",
    "em =\"C:\\\\OneDrive\\\\Software\\\\Work_Spaces\\\\System_WorkSpace\\\\Data_WorkSpace\\\\Machine_Learning\\\\Email_Spam_Detection\\\\Emails\\\\\"\n",
    "file1 = open(em+\"Normal_Email.txt\",'r')\n",
    "file2 = open(em+\"Spam_Email.txt\",'r')\n",
    "file3 = open(em+\"Test_Email_1.txt\",'r')\n",
    "file4 = open(em+\"Test_Email_2.txt\",'r')\n",
    "Normal_Email=\"\"\n",
    "Spam_Email=\"\"\n",
    "Test_Email_1=\"\"\n",
    "Test_Email_2=\"\"\n",
    "for  i in file1:\n",
    "    Normal_Email+=i\n",
    "for  i in file2:\n",
    "    Spam_Email+=i\n",
    "for  i in file3:\n",
    "    Test_Email_1+=i\n",
    "for  i in file4:\n",
    "    Test_Email_2+=i\n",
    "#email = input(\"Enter the Email Text : \")\n",
    "#print(email)\n",
    "\n",
    "X_test_vectorized = vectorizer.transform([Normal_Email,Spam_Email,Test_Email_1,Test_Email_2])\n",
    "Target_Predictions = Classification_Model.predict(X_test_vectorized)\n",
    "\n",
    "print(Target_Predictions)\n",
    "\n",
    "#print(\"\\n\\n The given Email is\"+(\" a spam Email.\" if Target_Predictions[0] == 'spam' else \" not a spam Email.\") )"
   ]
  },
  {
   "cell_type": "code",
   "execution_count": 8,
   "metadata": {},
   "outputs": [],
   "source": [
    "# Model Storage:\n",
    "# Saving the Trained Machine Learning Model:\n",
    "try:\n",
    "    jb.dump(Classification_Model,\"C:\\\\OneDrive\\\\Software\\\\Work_Spaces\\\\System_WorkSpace\\\\Data_WorkSpace\\\\Machine_Learning\\\\Email_Spam_Detection\\\\Models\\\\Email_Classification_Model.pkl\")\n",
    "except Exception as e:\n",
    "    print(e)"
   ]
  }
 ],
 "metadata": {
  "kernelspec": {
   "display_name": "Python 3",
   "language": "python",
   "name": "python3"
  },
  "language_info": {
   "codemirror_mode": {
    "name": "ipython",
    "version": 3
   },
   "file_extension": ".py",
   "mimetype": "text/x-python",
   "name": "python",
   "nbconvert_exporter": "python",
   "pygments_lexer": "ipython3",
   "version": "3.11.2"
  },
  "orig_nbformat": 4
 },
 "nbformat": 4,
 "nbformat_minor": 2
}
