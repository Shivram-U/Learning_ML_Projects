{
 "cells": [
  {
   "cell_type": "code",
   "execution_count": 1,
   "metadata": {},
   "outputs": [],
   "source": [
    "import pandas as pd\n",
    "import seaborn as sbn\n",
    "import matplotlib.pyplot as plt"
   ]
  },
  {
   "cell_type": "code",
   "execution_count": 2,
   "metadata": {},
   "outputs": [
    {
     "name": "stdout",
     "output_type": "stream",
     "text": [
      "(27481, 10)\n",
      "Index(['textID', 'text', 'selected_text', 'sentiment', 'Time of Tweet',\n",
      "       'Age of User', 'Country', 'Population -2020', 'Land Area (Km²)',\n",
      "       'Density (P/Km²)'],\n",
      "      dtype='object')\n",
      "(1048572, 6)\n",
      "Index(['polarity_of_tweet', 'tweet_id', 'tweet_date', 'query', 'user',\n",
      "       'tweet_text'],\n",
      "      dtype='object')\n"
     ]
    },
    {
     "data": {
      "text/html": [
       "<div>\n",
       "<style scoped>\n",
       "    .dataframe tbody tr th:only-of-type {\n",
       "        vertical-align: middle;\n",
       "    }\n",
       "\n",
       "    .dataframe tbody tr th {\n",
       "        vertical-align: top;\n",
       "    }\n",
       "\n",
       "    .dataframe thead th {\n",
       "        text-align: right;\n",
       "    }\n",
       "</style>\n",
       "<table border=\"1\" class=\"dataframe\">\n",
       "  <thead>\n",
       "    <tr style=\"text-align: right;\">\n",
       "      <th></th>\n",
       "      <th>polarity_of_tweet</th>\n",
       "      <th>tweet_id</th>\n",
       "    </tr>\n",
       "  </thead>\n",
       "  <tbody>\n",
       "    <tr>\n",
       "      <th>count</th>\n",
       "      <td>1.048572e+06</td>\n",
       "      <td>1.048572e+06</td>\n",
       "    </tr>\n",
       "    <tr>\n",
       "      <th>mean</th>\n",
       "      <td>9.482458e-01</td>\n",
       "      <td>1.976168e+09</td>\n",
       "    </tr>\n",
       "    <tr>\n",
       "      <th>std</th>\n",
       "      <td>1.701122e+00</td>\n",
       "      <td>2.300567e+08</td>\n",
       "    </tr>\n",
       "    <tr>\n",
       "      <th>min</th>\n",
       "      <td>0.000000e+00</td>\n",
       "      <td>1.467811e+09</td>\n",
       "    </tr>\n",
       "    <tr>\n",
       "      <th>25%</th>\n",
       "      <td>0.000000e+00</td>\n",
       "      <td>1.824526e+09</td>\n",
       "    </tr>\n",
       "    <tr>\n",
       "      <th>50%</th>\n",
       "      <td>0.000000e+00</td>\n",
       "      <td>1.990870e+09</td>\n",
       "    </tr>\n",
       "    <tr>\n",
       "      <th>75%</th>\n",
       "      <td>0.000000e+00</td>\n",
       "      <td>2.198903e+09</td>\n",
       "    </tr>\n",
       "    <tr>\n",
       "      <th>max</th>\n",
       "      <td>4.000000e+00</td>\n",
       "      <td>2.329206e+09</td>\n",
       "    </tr>\n",
       "  </tbody>\n",
       "</table>\n",
       "</div>"
      ],
      "text/plain": [
       "       polarity_of_tweet      tweet_id\n",
       "count       1.048572e+06  1.048572e+06\n",
       "mean        9.482458e-01  1.976168e+09\n",
       "std         1.701122e+00  2.300567e+08\n",
       "min         0.000000e+00  1.467811e+09\n",
       "25%         0.000000e+00  1.824526e+09\n",
       "50%         0.000000e+00  1.990870e+09\n",
       "75%         0.000000e+00  2.198903e+09\n",
       "max         4.000000e+00  2.329206e+09"
      ]
     },
     "execution_count": 2,
     "metadata": {},
     "output_type": "execute_result"
    }
   ],
   "source": [
    "Data_Set_Path = \"C:\\\\OneDrive\\\\Software\\\\Work_Spaces\\\\System_WorkSpace\\\\Data_WorkSpace\\\\Machine_Learning\\\\Sentimental_Analysis\\\\Data\\\\\"\n",
    "Res_Path = \"C:\\\\OneDrive\\\\Software\\\\Work_Spaces\\\\System_WorkSpace\\\\Data_WorkSpace\\\\Machine_Learning\\\\Sentimental_Analysis\\\\RES\\\\\"\n",
    "\n",
    "File1 = \"train.csv\"\n",
    "File2 = \"Big_Data_Comments.csv\"\n",
    "\n",
    "ds1 = pd.read_csv(Res_Path+File1,encoding='ISO-8859-1')\n",
    "ds2 = pd.read_csv(Res_Path+File2,encoding='ISO-8859-1')\n",
    "print(ds1.shape)\n",
    "print(ds1.columns)\n",
    "ds1.describe()\n",
    "print(ds2.shape)\n",
    "print(ds2.columns)\n",
    "ds2.describe()"
   ]
  },
  {
   "cell_type": "code",
   "execution_count": 3,
   "metadata": {},
   "outputs": [
    {
     "name": "stdout",
     "output_type": "stream",
     "text": [
      "textID              0\n",
      "text                1\n",
      "selected_text       1\n",
      "sentiment           0\n",
      "Time of Tweet       0\n",
      "Age of User         0\n",
      "Country             0\n",
      "Population -2020    0\n",
      "Land Area (Km²)     0\n",
      "Density (P/Km²)     0\n",
      "dtype: int64\n",
      "['text', 'selected_text']\n",
      "         textID text selected_text sentiment Time of Tweet Age of User  \\\n",
      "314  fdb77c3752  NaN           NaN   neutral         night       31-45   \n",
      "\n",
      "     Country  Population -2020  Land Area (Km²)  Density (P/Km²)  \n",
      "314  Namibia           2540905         823000.0                3  \n",
      "textID              0\n",
      "text                0\n",
      "selected_text       0\n",
      "sentiment           0\n",
      "Time of Tweet       0\n",
      "Age of User         0\n",
      "Country             0\n",
      "Population -2020    0\n",
      "Land Area (Km²)     0\n",
      "Density (P/Km²)     0\n",
      "dtype: int64\n"
     ]
    }
   ],
   "source": [
    "# Null Values analysis\n",
    "Null_Values_Insight = ds1.isnull()\n",
    "#print(Null_Values_Insight)\n",
    "\n",
    "Null_Values_Col_Count = Null_Values_Insight.sum()\n",
    "print(Null_Values_Col_Count)                \n",
    "\n",
    "Null_Values_Columns = []\n",
    "for Column,Null_Values_Count in Null_Values_Col_Count.items():\n",
    "    if(Null_Values_Count>0):\n",
    "        Null_Values_Columns.append(Column)\n",
    "    \n",
    "print(Null_Values_Columns)\n",
    "\n",
    "Null_Values_Records = [];\n",
    "if(Null_Values_Columns!=[]):\n",
    "    st_null_records = ds1[ds1[Null_Values_Columns[0]].isnull()]\n",
    "    print(st_null_records)\n",
    "\n",
    "    # Null Values removal\n",
    "    ds1=ds1.dropna(subset = Null_Values_Columns)\n",
    "    print(ds1.isnull().sum())"
   ]
  },
  {
   "cell_type": "code",
   "execution_count": 4,
   "metadata": {},
   "outputs": [
    {
     "name": "stdout",
     "output_type": "stream",
     "text": [
      "polarity_of_tweet    0\n",
      "tweet_id             0\n",
      "tweet_date           0\n",
      "query                0\n",
      "user                 0\n",
      "tweet_text           0\n",
      "dtype: int64\n",
      "[]\n"
     ]
    }
   ],
   "source": [
    "# Null Values analysis\n",
    "Null_Values_Insight = ds2.isnull()\n",
    "#print(Null_Values_Insight)\n",
    "\n",
    "Null_Values_Col_Count = Null_Values_Insight.sum()\n",
    "print(Null_Values_Col_Count)                \n",
    "\n",
    "Null_Values_Columns = []\n",
    "for Column,Null_Values_Count in Null_Values_Col_Count.items():\n",
    "    if(Null_Values_Count>0):\n",
    "        Null_Values_Columns.append(Column)\n",
    "    \n",
    "print(Null_Values_Columns)\n",
    "\n",
    "Null_Values_Records = [];\n",
    "if(Null_Values_Columns!=[]):\n",
    "    st_null_records = ds2[ds2[Null_Values_Columns[0]].isnull()]\n",
    "    print(st_null_records)\n",
    "\n",
    "    # Null Values removal\n",
    "    ds2=ds2.dropna(subset = Null_Values_Columns)\n",
    "    print(ds2.isnull().sum())"
   ]
  },
  {
   "cell_type": "code",
   "execution_count": 5,
   "metadata": {},
   "outputs": [],
   "source": [
    "# Saving the Processed Dataset\n",
    "ds1.to_csv(Data_Set_Path+\"EDA_Analysed_SA_DS.csv\",index=False)\n",
    "ds2.to_csv(Data_Set_Path+\"EDA_Analysed_SA_BD_DS.csv\",index=False)"
   ]
  }
 ],
 "metadata": {
  "kernelspec": {
   "display_name": "Python 3",
   "language": "python",
   "name": "python3"
  },
  "language_info": {
   "codemirror_mode": {
    "name": "ipython",
    "version": 3
   },
   "file_extension": ".py",
   "mimetype": "text/x-python",
   "name": "python",
   "nbconvert_exporter": "python",
   "pygments_lexer": "ipython3",
   "version": "3.11.2"
  },
  "orig_nbformat": 4
 },
 "nbformat": 4,
 "nbformat_minor": 2
}
