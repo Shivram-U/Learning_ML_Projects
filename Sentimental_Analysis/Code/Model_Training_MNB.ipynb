{
 "cells": [
  {
   "cell_type": "code",
   "execution_count": 15,
   "metadata": {},
   "outputs": [],
   "source": [
    "#MODULES:\n",
    "import pandas as pd\n",
    "import joblib as jb\n",
    "# pip install scikit-learn\n",
    "from nltk.corpus import stopwords\n",
    "import nltk\n",
    "from sklearn.feature_extraction.text import CountVectorizer\n",
    "from sklearn.feature_extraction.text import ENGLISH_STOP_WORDS\n",
    "from sklearn.naive_bayes import MultinomialNB\n",
    "from sklearn.pipeline import make_pipeline\n",
    "from sklearn.model_selection import train_test_split\n",
    "from sklearn.metrics import accuracy_score,classification_report"
   ]
  },
  {
   "cell_type": "code",
   "execution_count": 16,
   "metadata": {},
   "outputs": [
    {
     "name": "stdout",
     "output_type": "stream",
     "text": [
      "(27480, 10)\n",
      "Index(['textID', 'text', 'selected_text', 'sentiment', 'Time of Tweet',\n",
      "       'Age of User', 'Country', 'Population -2020', 'Land Area (KmÂ²)',\n",
      "       'Density (P/KmÂ²)'],\n",
      "      dtype='object')\n"
     ]
    },
    {
     "data": {
      "text/html": [
       "<div>\n",
       "<style scoped>\n",
       "    .dataframe tbody tr th:only-of-type {\n",
       "        vertical-align: middle;\n",
       "    }\n",
       "\n",
       "    .dataframe tbody tr th {\n",
       "        vertical-align: top;\n",
       "    }\n",
       "\n",
       "    .dataframe thead th {\n",
       "        text-align: right;\n",
       "    }\n",
       "</style>\n",
       "<table border=\"1\" class=\"dataframe\">\n",
       "  <thead>\n",
       "    <tr style=\"text-align: right;\">\n",
       "      <th></th>\n",
       "      <th>Population -2020</th>\n",
       "      <th>Land Area (KmÂ²)</th>\n",
       "      <th>Density (P/KmÂ²)</th>\n",
       "    </tr>\n",
       "  </thead>\n",
       "  <tbody>\n",
       "    <tr>\n",
       "      <th>count</th>\n",
       "      <td>2.748000e+04</td>\n",
       "      <td>2.748000e+04</td>\n",
       "      <td>27480.000000</td>\n",
       "    </tr>\n",
       "    <tr>\n",
       "      <th>mean</th>\n",
       "      <td>4.018634e+07</td>\n",
       "      <td>6.621672e+05</td>\n",
       "      <td>357.699491</td>\n",
       "    </tr>\n",
       "    <tr>\n",
       "      <th>std</th>\n",
       "      <td>1.504972e+08</td>\n",
       "      <td>1.807457e+06</td>\n",
       "      <td>2013.786207</td>\n",
       "    </tr>\n",
       "    <tr>\n",
       "      <th>min</th>\n",
       "      <td>8.010000e+02</td>\n",
       "      <td>0.000000e+00</td>\n",
       "      <td>2.000000</td>\n",
       "    </tr>\n",
       "    <tr>\n",
       "      <th>25%</th>\n",
       "      <td>1.968001e+06</td>\n",
       "      <td>2.281000e+04</td>\n",
       "      <td>35.000000</td>\n",
       "    </tr>\n",
       "    <tr>\n",
       "      <th>50%</th>\n",
       "      <td>8.655535e+06</td>\n",
       "      <td>1.118900e+05</td>\n",
       "      <td>89.000000</td>\n",
       "    </tr>\n",
       "    <tr>\n",
       "      <th>75%</th>\n",
       "      <td>2.843594e+07</td>\n",
       "      <td>5.279700e+05</td>\n",
       "      <td>214.000000</td>\n",
       "    </tr>\n",
       "    <tr>\n",
       "      <th>max</th>\n",
       "      <td>1.439324e+09</td>\n",
       "      <td>1.637687e+07</td>\n",
       "      <td>26337.000000</td>\n",
       "    </tr>\n",
       "  </tbody>\n",
       "</table>\n",
       "</div>"
      ],
      "text/plain": [
       "       Population -2020  Land Area (KmÂ²)  Density (P/KmÂ²)\n",
       "count      2.748000e+04      2.748000e+04      27480.000000\n",
       "mean       4.018634e+07      6.621672e+05        357.699491\n",
       "std        1.504972e+08      1.807457e+06       2013.786207\n",
       "min        8.010000e+02      0.000000e+00          2.000000\n",
       "25%        1.968001e+06      2.281000e+04         35.000000\n",
       "50%        8.655535e+06      1.118900e+05         89.000000\n",
       "75%        2.843594e+07      5.279700e+05        214.000000\n",
       "max        1.439324e+09      1.637687e+07      26337.000000"
      ]
     },
     "execution_count": 16,
     "metadata": {},
     "output_type": "execute_result"
    }
   ],
   "source": [
    "Data_Set_Path = \"C:\\\\OneDrive\\\\Software\\\\Work_Spaces\\\\System_WorkSpace\\\\Data_WorkSpace\\\\Machine_Learning\\\\Sentimental_Analysis\\\\Data\\\\\"\n",
    "Res_Path = \"C:\\\\OneDrive\\\\Software\\\\Work_Spaces\\\\System_WorkSpace\\\\Data_WorkSpace\\\\Machine_Learning\\\\Sentimental_Analysis\\\\RES\\\\\"\n",
    "\n",
    "File = \"EDA_Analysed_SA_DS.csv\"       #-> Accuracy : 0.7848617176128093\n",
    "# File = \"EDA_Analysed_SA_DS_SVM.csv\" -> Accuracy : 0.7704512372634643\n",
    "\n",
    "ds = pd.read_csv(Data_Set_Path+File,encoding='ISO-8859-1')\n",
    "print(ds.shape)\n",
    "print(ds.columns)\n",
    "ds.describe()"
   ]
  },
  {
   "cell_type": "code",
   "execution_count": 17,
   "metadata": {},
   "outputs": [
    {
     "name": "stdout",
     "output_type": "stream",
     "text": [
      "(27480,)\n",
      "(27480,)\n"
     ]
    },
    {
     "name": "stderr",
     "output_type": "stream",
     "text": [
      "[nltk_data] Error loading stopwords: <urlopen error [WinError 10060] A\n",
      "[nltk_data]     connection attempt failed because the connected party\n",
      "[nltk_data]     did not properly respond after a period of time, or\n",
      "[nltk_data]     established connection failed because connected host\n",
      "[nltk_data]     has failed to respond>\n"
     ]
    }
   ],
   "source": [
    "# Features and Target Variable Separation\n",
    "Target_Variable = ds[\"sentiment\"]\n",
    "Features = ds[\"selected_text\"]\n",
    "nltk.download('stopwords')\n",
    "'''\n",
    "    The multinomial naive bayes algorithm only accepts, Textual Data of a Single field, in mutlinomial Distributed form, and analyses the probability relationship, between the subsequent words in the Data, inorder to classify it, \n",
    "    based on the frequency of the Words.\n",
    "'''\n",
    "#Features = ds.drop(\"sentiment\",axis=1)\n",
    "Features.reset_index(drop = True,inplace=True)\n",
    "Target_Variable.reset_index(drop = True,inplace=True)\n",
    "print(Features.shape)\n",
    "print(Target_Variable.shape)\n"
   ]
  },
  {
   "cell_type": "code",
   "execution_count": 18,
   "metadata": {},
   "outputs": [],
   "source": [
    "# Training and testing Data split:\n",
    "X_Train,X_Test,Y_Train,Y_Test = train_test_split(Features,Target_Variable,test_size=0.25,random_state=42,stratify=Target_Variable)"
   ]
  },
  {
   "cell_type": "code",
   "execution_count": 19,
   "metadata": {},
   "outputs": [
    {
     "name": "stdout",
     "output_type": "stream",
     "text": [
      "(20610, 14741)\n",
      "(20610,)\n"
     ]
    },
    {
     "data": {
      "text/html": [
       "<style>#sk-container-id-3 {color: black;}#sk-container-id-3 pre{padding: 0;}#sk-container-id-3 div.sk-toggleable {background-color: white;}#sk-container-id-3 label.sk-toggleable__label {cursor: pointer;display: block;width: 100%;margin-bottom: 0;padding: 0.3em;box-sizing: border-box;text-align: center;}#sk-container-id-3 label.sk-toggleable__label-arrow:before {content: \"▸\";float: left;margin-right: 0.25em;color: #696969;}#sk-container-id-3 label.sk-toggleable__label-arrow:hover:before {color: black;}#sk-container-id-3 div.sk-estimator:hover label.sk-toggleable__label-arrow:before {color: black;}#sk-container-id-3 div.sk-toggleable__content {max-height: 0;max-width: 0;overflow: hidden;text-align: left;background-color: #f0f8ff;}#sk-container-id-3 div.sk-toggleable__content pre {margin: 0.2em;color: black;border-radius: 0.25em;background-color: #f0f8ff;}#sk-container-id-3 input.sk-toggleable__control:checked~div.sk-toggleable__content {max-height: 200px;max-width: 100%;overflow: auto;}#sk-container-id-3 input.sk-toggleable__control:checked~label.sk-toggleable__label-arrow:before {content: \"▾\";}#sk-container-id-3 div.sk-estimator input.sk-toggleable__control:checked~label.sk-toggleable__label {background-color: #d4ebff;}#sk-container-id-3 div.sk-label input.sk-toggleable__control:checked~label.sk-toggleable__label {background-color: #d4ebff;}#sk-container-id-3 input.sk-hidden--visually {border: 0;clip: rect(1px 1px 1px 1px);clip: rect(1px, 1px, 1px, 1px);height: 1px;margin: -1px;overflow: hidden;padding: 0;position: absolute;width: 1px;}#sk-container-id-3 div.sk-estimator {font-family: monospace;background-color: #f0f8ff;border: 1px dotted black;border-radius: 0.25em;box-sizing: border-box;margin-bottom: 0.5em;}#sk-container-id-3 div.sk-estimator:hover {background-color: #d4ebff;}#sk-container-id-3 div.sk-parallel-item::after {content: \"\";width: 100%;border-bottom: 1px solid gray;flex-grow: 1;}#sk-container-id-3 div.sk-label:hover label.sk-toggleable__label {background-color: #d4ebff;}#sk-container-id-3 div.sk-serial::before {content: \"\";position: absolute;border-left: 1px solid gray;box-sizing: border-box;top: 0;bottom: 0;left: 50%;z-index: 0;}#sk-container-id-3 div.sk-serial {display: flex;flex-direction: column;align-items: center;background-color: white;padding-right: 0.2em;padding-left: 0.2em;position: relative;}#sk-container-id-3 div.sk-item {position: relative;z-index: 1;}#sk-container-id-3 div.sk-parallel {display: flex;align-items: stretch;justify-content: center;background-color: white;position: relative;}#sk-container-id-3 div.sk-item::before, #sk-container-id-3 div.sk-parallel-item::before {content: \"\";position: absolute;border-left: 1px solid gray;box-sizing: border-box;top: 0;bottom: 0;left: 50%;z-index: -1;}#sk-container-id-3 div.sk-parallel-item {display: flex;flex-direction: column;z-index: 1;position: relative;background-color: white;}#sk-container-id-3 div.sk-parallel-item:first-child::after {align-self: flex-end;width: 50%;}#sk-container-id-3 div.sk-parallel-item:last-child::after {align-self: flex-start;width: 50%;}#sk-container-id-3 div.sk-parallel-item:only-child::after {width: 0;}#sk-container-id-3 div.sk-dashed-wrapped {border: 1px dashed gray;margin: 0 0.4em 0.5em 0.4em;box-sizing: border-box;padding-bottom: 0.4em;background-color: white;}#sk-container-id-3 div.sk-label label {font-family: monospace;font-weight: bold;display: inline-block;line-height: 1.2em;}#sk-container-id-3 div.sk-label-container {text-align: center;}#sk-container-id-3 div.sk-container {/* jupyter's `normalize.less` sets `[hidden] { display: none; }` but bootstrap.min.css set `[hidden] { display: none !important; }` so we also need the `!important` here to be able to override the default hidden behavior on the sphinx rendered scikit-learn.org. See: https://github.com/scikit-learn/scikit-learn/issues/21755 */display: inline-block !important;position: relative;}#sk-container-id-3 div.sk-text-repr-fallback {display: none;}</style><div id=\"sk-container-id-3\" class=\"sk-top-container\"><div class=\"sk-text-repr-fallback\"><pre>MultinomialNB()</pre><b>In a Jupyter environment, please rerun this cell to show the HTML representation or trust the notebook. <br />On GitHub, the HTML representation is unable to render, please try loading this page with nbviewer.org.</b></div><div class=\"sk-container\" hidden><div class=\"sk-item\"><div class=\"sk-estimator sk-toggleable\"><input class=\"sk-toggleable__control sk-hidden--visually\" id=\"sk-estimator-id-3\" type=\"checkbox\" checked><label for=\"sk-estimator-id-3\" class=\"sk-toggleable__label sk-toggleable__label-arrow\">MultinomialNB</label><div class=\"sk-toggleable__content\"><pre>MultinomialNB()</pre></div></div></div></div></div>"
      ],
      "text/plain": [
       "MultinomialNB()"
      ]
     },
     "execution_count": 19,
     "metadata": {},
     "output_type": "execute_result"
    }
   ],
   "source": [
    "#vectorizer = CountVectorizer(max_df=0.85, min_df=0.15)\n",
    "vectorizer = CountVectorizer(max_df=0.1, min_df=0.0)\n",
    "#vectorizer = CountVectorizer(stop_words='english')\n",
    "#vectorizer = CountVectorizer()\n",
    "X_Train = X_Train.fillna('')  # Replace NaN with empty string\n",
    "X_Test = X_Test.fillna('')    # Replace NaN with empty string\n",
    "\n",
    "X_train_vectorized = vectorizer.fit_transform(X_Train)\n",
    "X_test_vectorized = vectorizer.transform(X_Test)\n",
    "# Y_test_vectorized = vectorizer.transform(Y_Test)      Since only, the input Textual Data is converted to numerial representation, for Model training and predictions.\n",
    "\n",
    "print(X_train_vectorized.shape)\n",
    "print(Y_Train.shape)\n",
    "mn = MultinomialNB()\n",
    "mn.fit(X_train_vectorized,Y_Train)"
   ]
  },
  {
   "cell_type": "code",
   "execution_count": 20,
   "metadata": {},
   "outputs": [
    {
     "name": "stdout",
     "output_type": "stream",
     "text": [
      "['neutral' 'positive' 'neutral' ... 'positive' 'positive' 'positive']\n",
      "0         neutral\n",
      "1        negative\n",
      "2        negative\n",
      "3        negative\n",
      "4        negative\n",
      "           ...   \n",
      "27475    negative\n",
      "27476    negative\n",
      "27477    positive\n",
      "27478    positive\n",
      "27479     neutral\n",
      "Name: sentiment, Length: 27480, dtype: object\n",
      "Accuracy: 0.7848617176128093\n",
      "Classification Report:\n",
      "               precision    recall  f1-score   support\n",
      "\n",
      "    negative       0.88      0.61      0.72      1945\n",
      "     neutral       0.69      0.92      0.79      2779\n",
      "    positive       0.90      0.76      0.83      2146\n",
      "\n",
      "    accuracy                           0.78      6870\n",
      "   macro avg       0.82      0.77      0.78      6870\n",
      "weighted avg       0.81      0.78      0.78      6870\n",
      "\n"
     ]
    }
   ],
   "source": [
    "# Model prediction and Evaluation\n",
    "predictions = mn.predict(X_test_vectorized)\n",
    "accuracy = accuracy_score(Y_Test, predictions)\n",
    "report = classification_report(Y_Test, predictions)\n",
    "\n",
    "print(predictions)\n",
    "print(ds['sentiment'])\n",
    "print(\"Accuracy:\", accuracy)\n",
    "print(\"Classification Report:\\n\", report)"
   ]
  },
  {
   "cell_type": "code",
   "execution_count": 21,
   "metadata": {},
   "outputs": [
    {
     "name": "stdout",
     "output_type": "stream",
     "text": [
      "['neutral' 'neutral' 'neutral' 'positive' 'neutral' 'neutral' 'negative']\n",
      "['neutral', 'negative', 'negative', 'positive', 'negative', 'negatve', 'negative']\n"
     ]
    }
   ],
   "source": [
    "# Model Evaluation:\n",
    "comments = [\" I`d have responded, if I were going\",\n",
    "            \" 'Sons of ****'\",\" why couldn`t they put them on the releases we already bought\",\n",
    "            \"Journey!? Wow... u just became cooler.  hehe... (is that possible!?)\",\n",
    "            \"what interview! leave me alone\",\n",
    "            \"Born and raised in NYC and living in Texas for the past 10 years!  I still miss NY\",\n",
    "            \"Sooo SAD I will miss you here in San Diego!!!\"]\n",
    "commentsp = [\"neutral\",\"negative\",\"negative\",\"positive\",\"negative\",\"negatve\",\"negative\"]\n",
    "commentsv = vectorizer.transform(comments)\n",
    "pred = mn.predict(commentsv)\n",
    "print(pred)\n",
    "print(commentsp)"
   ]
  }
 ],
 "metadata": {
  "kernelspec": {
   "display_name": "Python 3",
   "language": "python",
   "name": "python3"
  },
  "language_info": {
   "codemirror_mode": {
    "name": "ipython",
    "version": 3
   },
   "file_extension": ".py",
   "mimetype": "text/x-python",
   "name": "python",
   "nbconvert_exporter": "python",
   "pygments_lexer": "ipython3",
   "version": "3.11.2"
  },
  "orig_nbformat": 4
 },
 "nbformat": 4,
 "nbformat_minor": 2
}
