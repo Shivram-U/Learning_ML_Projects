{
 "cells": [
  {
   "cell_type": "code",
   "execution_count": 1,
   "metadata": {},
   "outputs": [],
   "source": [
    "#MODULES:\n",
    "import pandas as pd\n",
    "import joblib as jb\n",
    "# pip install scikit-learn\n",
    "from nltk.corpus import stopwords\n",
    "import nltk\n",
    "from sklearn.feature_extraction.text import CountVectorizer\n",
    "from sklearn.feature_extraction.text import ENGLISH_STOP_WORDS\n",
    "from sklearn.naive_bayes import MultinomialNB\n",
    "from sklearn.pipeline import make_pipeline\n",
    "from sklearn.model_selection import train_test_split\n",
    "from sklearn.metrics import accuracy_score,classification_report"
   ]
  },
  {
   "cell_type": "code",
   "execution_count": 2,
   "metadata": {},
   "outputs": [
    {
     "name": "stdout",
     "output_type": "stream",
     "text": [
      "(1048572, 6)\n",
      "Index(['polarity_of_tweet', 'tweet_id', 'tweet_date', 'query', 'user',\n",
      "       'tweet_text'],\n",
      "      dtype='object')\n"
     ]
    },
    {
     "data": {
      "text/html": [
       "<div>\n",
       "<style scoped>\n",
       "    .dataframe tbody tr th:only-of-type {\n",
       "        vertical-align: middle;\n",
       "    }\n",
       "\n",
       "    .dataframe tbody tr th {\n",
       "        vertical-align: top;\n",
       "    }\n",
       "\n",
       "    .dataframe thead th {\n",
       "        text-align: right;\n",
       "    }\n",
       "</style>\n",
       "<table border=\"1\" class=\"dataframe\">\n",
       "  <thead>\n",
       "    <tr style=\"text-align: right;\">\n",
       "      <th></th>\n",
       "      <th>polarity_of_tweet</th>\n",
       "      <th>tweet_id</th>\n",
       "    </tr>\n",
       "  </thead>\n",
       "  <tbody>\n",
       "    <tr>\n",
       "      <th>count</th>\n",
       "      <td>1.048572e+06</td>\n",
       "      <td>1.048572e+06</td>\n",
       "    </tr>\n",
       "    <tr>\n",
       "      <th>mean</th>\n",
       "      <td>9.482458e-01</td>\n",
       "      <td>1.976168e+09</td>\n",
       "    </tr>\n",
       "    <tr>\n",
       "      <th>std</th>\n",
       "      <td>1.701122e+00</td>\n",
       "      <td>2.300567e+08</td>\n",
       "    </tr>\n",
       "    <tr>\n",
       "      <th>min</th>\n",
       "      <td>0.000000e+00</td>\n",
       "      <td>1.467811e+09</td>\n",
       "    </tr>\n",
       "    <tr>\n",
       "      <th>25%</th>\n",
       "      <td>0.000000e+00</td>\n",
       "      <td>1.824526e+09</td>\n",
       "    </tr>\n",
       "    <tr>\n",
       "      <th>50%</th>\n",
       "      <td>0.000000e+00</td>\n",
       "      <td>1.990870e+09</td>\n",
       "    </tr>\n",
       "    <tr>\n",
       "      <th>75%</th>\n",
       "      <td>0.000000e+00</td>\n",
       "      <td>2.198903e+09</td>\n",
       "    </tr>\n",
       "    <tr>\n",
       "      <th>max</th>\n",
       "      <td>4.000000e+00</td>\n",
       "      <td>2.329206e+09</td>\n",
       "    </tr>\n",
       "  </tbody>\n",
       "</table>\n",
       "</div>"
      ],
      "text/plain": [
       "       polarity_of_tweet      tweet_id\n",
       "count       1.048572e+06  1.048572e+06\n",
       "mean        9.482458e-01  1.976168e+09\n",
       "std         1.701122e+00  2.300567e+08\n",
       "min         0.000000e+00  1.467811e+09\n",
       "25%         0.000000e+00  1.824526e+09\n",
       "50%         0.000000e+00  1.990870e+09\n",
       "75%         0.000000e+00  2.198903e+09\n",
       "max         4.000000e+00  2.329206e+09"
      ]
     },
     "execution_count": 2,
     "metadata": {},
     "output_type": "execute_result"
    }
   ],
   "source": [
    "Data_Set_Path = \"C:\\\\OneDrive\\\\Software\\\\Work_Spaces\\\\System_WorkSpace\\\\Data_WorkSpace\\\\Machine_Learning\\\\Sentimental_Analysis\\\\Data\\\\\"\n",
    "Res_Path = \"C:\\\\OneDrive\\\\Software\\\\Work_Spaces\\\\System_WorkSpace\\\\Data_WorkSpace\\\\Machine_Learning\\\\Sentimental_Analysis\\\\RES\\\\\"\n",
    "\n",
    "File = \"EDA_Analysed_SA_BD_DS.csv\"\n",
    "\n",
    "ds = pd.read_csv(Data_Set_Path+File,encoding='ISO-8859-1')\n",
    "print(ds.shape)\n",
    "print(ds.columns)\n",
    "ds.describe()"
   ]
  },
  {
   "cell_type": "code",
   "execution_count": 3,
   "metadata": {},
   "outputs": [
    {
     "name": "stdout",
     "output_type": "stream",
     "text": [
      "(1048572,)\n",
      "(1048572,)\n"
     ]
    },
    {
     "name": "stderr",
     "output_type": "stream",
     "text": [
      "[nltk_data] Downloading package stopwords to\n",
      "[nltk_data]     C:\\Users\\HP\\AppData\\Roaming\\nltk_data...\n",
      "[nltk_data]   Package stopwords is already up-to-date!\n"
     ]
    }
   ],
   "source": [
    "# Features and Target Variable Separation\n",
    "Target_Variable = ds[\"polarity_of_tweet\"]\n",
    "Features = ds[\"tweet_text\"]\n",
    "nltk.download('stopwords')\n",
    "'''\n",
    "    The multinomial naive bayes algorithm only accepts, Textual Data of a Single field, in mutlinomial Distributed form, and analyses the probability relationship, between the subsequent words in the Data, inorder to classify it, \n",
    "    based on the frequency of the Words.\n",
    "'''\n",
    "#Features = ds.drop(\"sentiment\",axis=1)\n",
    "Features.reset_index(drop = True,inplace=True)\n",
    "Target_Variable.reset_index(drop = True,inplace=True)\n",
    "print(Features.shape)\n",
    "print(Target_Variable.shape)\n"
   ]
  },
  {
   "cell_type": "code",
   "execution_count": 4,
   "metadata": {},
   "outputs": [],
   "source": [
    "# Training and testing Data split:\n",
    "X_Train,X_Test,Y_Train,Y_Test = train_test_split(Features,Target_Variable,test_size=0.25,random_state=42,stratify=Target_Variable)"
   ]
  },
  {
   "cell_type": "code",
   "execution_count": 5,
   "metadata": {},
   "outputs": [
    {
     "name": "stdout",
     "output_type": "stream",
     "text": [
      "(786429, 396681)\n",
      "(786429,)\n"
     ]
    },
    {
     "data": {
      "text/html": [
       "<style>#sk-container-id-1 {color: black;}#sk-container-id-1 pre{padding: 0;}#sk-container-id-1 div.sk-toggleable {background-color: white;}#sk-container-id-1 label.sk-toggleable__label {cursor: pointer;display: block;width: 100%;margin-bottom: 0;padding: 0.3em;box-sizing: border-box;text-align: center;}#sk-container-id-1 label.sk-toggleable__label-arrow:before {content: \"▸\";float: left;margin-right: 0.25em;color: #696969;}#sk-container-id-1 label.sk-toggleable__label-arrow:hover:before {color: black;}#sk-container-id-1 div.sk-estimator:hover label.sk-toggleable__label-arrow:before {color: black;}#sk-container-id-1 div.sk-toggleable__content {max-height: 0;max-width: 0;overflow: hidden;text-align: left;background-color: #f0f8ff;}#sk-container-id-1 div.sk-toggleable__content pre {margin: 0.2em;color: black;border-radius: 0.25em;background-color: #f0f8ff;}#sk-container-id-1 input.sk-toggleable__control:checked~div.sk-toggleable__content {max-height: 200px;max-width: 100%;overflow: auto;}#sk-container-id-1 input.sk-toggleable__control:checked~label.sk-toggleable__label-arrow:before {content: \"▾\";}#sk-container-id-1 div.sk-estimator input.sk-toggleable__control:checked~label.sk-toggleable__label {background-color: #d4ebff;}#sk-container-id-1 div.sk-label input.sk-toggleable__control:checked~label.sk-toggleable__label {background-color: #d4ebff;}#sk-container-id-1 input.sk-hidden--visually {border: 0;clip: rect(1px 1px 1px 1px);clip: rect(1px, 1px, 1px, 1px);height: 1px;margin: -1px;overflow: hidden;padding: 0;position: absolute;width: 1px;}#sk-container-id-1 div.sk-estimator {font-family: monospace;background-color: #f0f8ff;border: 1px dotted black;border-radius: 0.25em;box-sizing: border-box;margin-bottom: 0.5em;}#sk-container-id-1 div.sk-estimator:hover {background-color: #d4ebff;}#sk-container-id-1 div.sk-parallel-item::after {content: \"\";width: 100%;border-bottom: 1px solid gray;flex-grow: 1;}#sk-container-id-1 div.sk-label:hover label.sk-toggleable__label {background-color: #d4ebff;}#sk-container-id-1 div.sk-serial::before {content: \"\";position: absolute;border-left: 1px solid gray;box-sizing: border-box;top: 0;bottom: 0;left: 50%;z-index: 0;}#sk-container-id-1 div.sk-serial {display: flex;flex-direction: column;align-items: center;background-color: white;padding-right: 0.2em;padding-left: 0.2em;position: relative;}#sk-container-id-1 div.sk-item {position: relative;z-index: 1;}#sk-container-id-1 div.sk-parallel {display: flex;align-items: stretch;justify-content: center;background-color: white;position: relative;}#sk-container-id-1 div.sk-item::before, #sk-container-id-1 div.sk-parallel-item::before {content: \"\";position: absolute;border-left: 1px solid gray;box-sizing: border-box;top: 0;bottom: 0;left: 50%;z-index: -1;}#sk-container-id-1 div.sk-parallel-item {display: flex;flex-direction: column;z-index: 1;position: relative;background-color: white;}#sk-container-id-1 div.sk-parallel-item:first-child::after {align-self: flex-end;width: 50%;}#sk-container-id-1 div.sk-parallel-item:last-child::after {align-self: flex-start;width: 50%;}#sk-container-id-1 div.sk-parallel-item:only-child::after {width: 0;}#sk-container-id-1 div.sk-dashed-wrapped {border: 1px dashed gray;margin: 0 0.4em 0.5em 0.4em;box-sizing: border-box;padding-bottom: 0.4em;background-color: white;}#sk-container-id-1 div.sk-label label {font-family: monospace;font-weight: bold;display: inline-block;line-height: 1.2em;}#sk-container-id-1 div.sk-label-container {text-align: center;}#sk-container-id-1 div.sk-container {/* jupyter's `normalize.less` sets `[hidden] { display: none; }` but bootstrap.min.css set `[hidden] { display: none !important; }` so we also need the `!important` here to be able to override the default hidden behavior on the sphinx rendered scikit-learn.org. See: https://github.com/scikit-learn/scikit-learn/issues/21755 */display: inline-block !important;position: relative;}#sk-container-id-1 div.sk-text-repr-fallback {display: none;}</style><div id=\"sk-container-id-1\" class=\"sk-top-container\"><div class=\"sk-text-repr-fallback\"><pre>MultinomialNB()</pre><b>In a Jupyter environment, please rerun this cell to show the HTML representation or trust the notebook. <br />On GitHub, the HTML representation is unable to render, please try loading this page with nbviewer.org.</b></div><div class=\"sk-container\" hidden><div class=\"sk-item\"><div class=\"sk-estimator sk-toggleable\"><input class=\"sk-toggleable__control sk-hidden--visually\" id=\"sk-estimator-id-1\" type=\"checkbox\" checked><label for=\"sk-estimator-id-1\" class=\"sk-toggleable__label sk-toggleable__label-arrow\">MultinomialNB</label><div class=\"sk-toggleable__content\"><pre>MultinomialNB()</pre></div></div></div></div></div>"
      ],
      "text/plain": [
       "MultinomialNB()"
      ]
     },
     "execution_count": 5,
     "metadata": {},
     "output_type": "execute_result"
    }
   ],
   "source": [
    "#vectorizer = CountVectorizer(max_df=0.85, min_df=0.15)\n",
    "vectorizer = CountVectorizer(max_df=0.1, min_df=0.0)\n",
    "#vectorizer = CountVectorizer(stop_words='english')\n",
    "#vectorizer = CountVectorizer()\n",
    "X_train_vectorized = vectorizer.fit_transform(X_Train)\n",
    "X_test_vectorized = vectorizer.transform(X_Test)\n",
    "# Y_test_vectorized = vectorizer.transform(Y_Test)      Since only, the input Textual Data is converted to numerial representation, for Model training and predictions.\n",
    "\n",
    "print(X_train_vectorized.shape)\n",
    "print(Y_Train.shape)\n",
    "mn = MultinomialNB()\n",
    "mn.fit(X_train_vectorized,Y_Train)"
   ]
  },
  {
   "cell_type": "code",
   "execution_count": 6,
   "metadata": {},
   "outputs": [
    {
     "name": "stdout",
     "output_type": "stream",
     "text": [
      "[0 0 0 ... 0 0 0]\n",
      "Accuracy: 0.8322747508039505\n",
      "Classification Report:\n",
      "               precision    recall  f1-score   support\n",
      "\n",
      "           0       0.84      0.97      0.90    199999\n",
      "           4       0.79      0.40      0.53     62144\n",
      "\n",
      "    accuracy                           0.83    262143\n",
      "   macro avg       0.81      0.68      0.72    262143\n",
      "weighted avg       0.83      0.83      0.81    262143\n",
      "\n"
     ]
    }
   ],
   "source": [
    "# Model prediction and Evaluation\n",
    "predictions = mn.predict(X_test_vectorized)\n",
    "accuracy = accuracy_score(Y_Test, predictions)\n",
    "report = classification_report(Y_Test, predictions)\n",
    "\n",
    "print(predictions)\n",
    "print(\"Accuracy:\", accuracy)\n",
    "print(\"Classification Report:\\n\", report)"
   ]
  },
  {
   "cell_type": "code",
   "execution_count": 7,
   "metadata": {},
   "outputs": [
    {
     "name": "stdout",
     "output_type": "stream",
     "text": [
      "['negative', 'negative', 'negative', 'positive', 'negative', 'negative', 'negative']\n",
      "['neutral', 'negative', 'negative', 'positive', 'negative', 'negatve', 'negative']\n"
     ]
    }
   ],
   "source": [
    "# Model Evaluation:\n",
    "comments = [\" I`d have responded, if I were going\",\n",
    "            \" 'Sons of ****'\",\" why couldn`t they put them on the releases we already bought\",\n",
    "            \"Journey!? Wow... u just became cooler.  hehe... (is that possible!?)\",\n",
    "            \"what interview! leave me alone\",\n",
    "            \"Born and raised in NYC and living in Texas for the past 10 years!  I still miss NY\",\n",
    "            \"Sooo SAD I will miss you here in San Diego!!!\"]\n",
    "predmap = {4:\"positive\",2:\"neutral\",0:\"negative\"}\n",
    "commentsp = [\"neutral\",\"negative\",\"negative\",\"positive\",\"negative\",\"negatve\",\"negative\"]\n",
    "commentsv = vectorizer.transform(comments)\n",
    "predtns = mn.predict(commentsv)\n",
    "prds=[]\n",
    "for i in range(len(predtns)):\n",
    "    prds.append(predmap[predtns[i]])\n",
    "print(prds)\n",
    "print(commentsp)"
   ]
  },
  {
   "cell_type": "code",
   "execution_count": 8,
   "metadata": {},
   "outputs": [
    {
     "data": {
      "image/png": "[encoded data removed]",
      "text/plain": [
       "<Figure size 800x600 with 1 Axes>"
      ]
     },
     "metadata": {},
     "output_type": "display_data"
    }
   ],
   "source": [
    "import numpy as np\n",
    "import matplotlib.pyplot as plt\n",
    "\n",
    "# Define a range of values for the input variable (X)\n",
    "X = np.linspace(-5, 5, 100)\n",
    "\n",
    "# Calculate the corresponding probabilities using the logistic function\n",
    "# In logistic regression, the logistic function is P(Y=1|X) = 1 / (1 + e^(-z))\n",
    "# Here, we use a linear combination for simplicity: z = 2*X\n",
    "# In practice, z would be calculated based on model coefficients.\n",
    "z = 2 * X\n",
    "probability = 1 / (1 + np.exp(-z))\n",
    "\n",
    "# Create a plot to visualize the logistic curve\n",
    "plt.figure(figsize=(8, 6))\n",
    "plt.plot(X, probability, label='Logistic Curve', color='blue')\n",
    "plt.xlabel('Input Variable (X)')\n",
    "plt.ylabel('Probability (P(Y=1|X))')\n",
    "plt.title('Logistic Regression Curve')\n",
    "plt.axhline(y=0.5, color='red', linestyle='--', label='Decision Threshold (0.5)')\n",
    "plt.legend()\n",
    "plt.grid(True)\n",
    "plt.show()\n",
    "\n",
    "\n",
    "\n",
    "\n",
    "\n"
   ]
  }
 ],
 "metadata": {
  "kernelspec": {
   "display_name": "Python 3",
   "language": "python",
   "name": "python3"
  },
  "language_info": {
   "codemirror_mode": {
    "name": "ipython",
    "version": 3
   },
   "file_extension": ".py",
   "mimetype": "text/x-python",
   "name": "python",
   "nbconvert_exporter": "python",
   "pygments_lexer": "ipython3",
   "version": "3.11.2"
  },
  "orig_nbformat": 4
 },
 "nbformat": 4,
 "nbformat_minor": 2
}
